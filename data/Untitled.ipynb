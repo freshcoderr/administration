{
 "cells": [
  {
   "cell_type": "code",
   "execution_count": 1,
   "metadata": {},
   "outputs": [],
   "source": [
    "import pandas as pd"
   ]
  },
  {
   "cell_type": "code",
   "execution_count": 5,
   "metadata": {},
   "outputs": [],
   "source": [
    "df_data = pd.read_table(\"2016.txt\",header=None)"
   ]
  },
  {
   "cell_type": "code",
   "execution_count": 6,
   "metadata": {},
   "outputs": [
    {
     "name": "stdout",
     "output_type": "stream",
     "text": [
      "           0               1   2   3   4   5   6   7\n",
      "0     110000             北京市 NaN NaN NaN NaN NaN NaN\n",
      "1     110101             东城区 NaN NaN NaN NaN NaN NaN\n",
      "2     110102             西城区 NaN NaN NaN NaN NaN NaN\n",
      "3     110105             朝阳区 NaN NaN NaN NaN NaN NaN\n",
      "4     110106             丰台区 NaN NaN NaN NaN NaN NaN\n",
      "5     110107            石景山区 NaN NaN NaN NaN NaN NaN\n",
      "6     110108             海淀区 NaN NaN NaN NaN NaN NaN\n",
      "7     110109            门头沟区 NaN NaN NaN NaN NaN NaN\n",
      "8     110111             房山区 NaN NaN NaN NaN NaN NaN\n",
      "9     110112             通州区 NaN NaN NaN NaN NaN NaN\n",
      "10    110113             顺义区 NaN NaN NaN NaN NaN NaN\n",
      "11    110114             昌平区 NaN NaN NaN NaN NaN NaN\n",
      "12    110115             大兴区 NaN NaN NaN NaN NaN NaN\n",
      "13    110116             怀柔区 NaN NaN NaN NaN NaN NaN\n",
      "14    110117             平谷区 NaN NaN NaN NaN NaN NaN\n",
      "15    110118             密云区 NaN NaN NaN NaN NaN NaN\n",
      "16    110119             延庆区 NaN NaN NaN NaN NaN NaN\n",
      "17    120000             天津市 NaN NaN NaN NaN NaN NaN\n",
      "18    120101             和平区 NaN NaN NaN NaN NaN NaN\n",
      "19    120102             河东区 NaN NaN NaN NaN NaN NaN\n",
      "20    120103             河西区 NaN NaN NaN NaN NaN NaN\n",
      "21    120104             南开区 NaN NaN NaN NaN NaN NaN\n",
      "22    120105             河北区 NaN NaN NaN NaN NaN NaN\n",
      "23    120106             红桥区 NaN NaN NaN NaN NaN NaN\n",
      "24    120110             东丽区 NaN NaN NaN NaN NaN NaN\n",
      "25    120111             西青区 NaN NaN NaN NaN NaN NaN\n",
      "26    120112             津南区 NaN NaN NaN NaN NaN NaN\n",
      "27    120113             北辰区 NaN NaN NaN NaN NaN NaN\n",
      "28    120114             武清区 NaN NaN NaN NaN NaN NaN\n",
      "29    120115             宝坻区 NaN NaN NaN NaN NaN NaN\n",
      "...      ...             ...  ..  ..  ..  ..  ..  ..\n",
      "3189  654027            特克斯县 NaN NaN NaN NaN NaN NaN\n",
      "3190  654028            尼勒克县 NaN NaN NaN NaN NaN NaN\n",
      "3191  654200            塔城地区 NaN NaN NaN NaN NaN NaN\n",
      "3192  654201             塔城市 NaN NaN NaN NaN NaN NaN\n",
      "3193  654202             乌苏市 NaN NaN NaN NaN NaN NaN\n",
      "3194  654221             额敏县 NaN NaN NaN NaN NaN NaN\n",
      "3195  654223             沙湾县 NaN NaN NaN NaN NaN NaN\n",
      "3196  654224             托里县 NaN NaN NaN NaN NaN NaN\n",
      "3197  654225             裕民县 NaN NaN NaN NaN NaN NaN\n",
      "3198  654226      和布克赛尔蒙古自治县 NaN NaN NaN NaN NaN NaN\n",
      "3199  654300           阿勒泰地区 NaN NaN NaN NaN NaN NaN\n",
      "3200  654301            阿勒泰市 NaN NaN NaN NaN NaN NaN\n",
      "3201  654321            布尔津县 NaN NaN NaN NaN NaN NaN\n",
      "3202  654322             富蕴县 NaN NaN NaN NaN NaN NaN\n",
      "3203  654323             福海县 NaN NaN NaN NaN NaN NaN\n",
      "3204  654324            哈巴河县 NaN NaN NaN NaN NaN NaN\n",
      "3205  654325             青河县 NaN NaN NaN NaN NaN NaN\n",
      "3206  654326            吉木乃县 NaN NaN NaN NaN NaN NaN\n",
      "3207  659001            石河子市 NaN NaN NaN NaN NaN NaN\n",
      "3208  659002            阿拉尔市 NaN NaN NaN NaN NaN NaN\n",
      "3209  659003           图木舒克市 NaN NaN NaN NaN NaN NaN\n",
      "3210  659004            五家渠市 NaN NaN NaN NaN NaN NaN\n",
      "3211  659005             北屯市 NaN NaN NaN NaN NaN NaN\n",
      "3212  659006            铁门关市 NaN NaN NaN NaN NaN NaN\n",
      "3213  659007             双河市 NaN NaN NaN NaN NaN NaN\n",
      "3214  659008           可克达拉市 NaN NaN NaN NaN NaN NaN\n",
      "3215  659009             昆玉市 NaN NaN NaN NaN NaN NaN\n",
      "3216  710000             台湾省 NaN NaN NaN NaN NaN NaN\n",
      "3217  810000         香港特别行政区 NaN NaN NaN NaN NaN NaN\n",
      "3218  820000         澳门特别行政区 NaN NaN NaN NaN NaN NaN\n",
      "\n",
      "[3219 rows x 8 columns]\n"
     ]
    }
   ],
   "source": [
    "print df_data"
   ]
  },
  {
   "cell_type": "code",
   "execution_count": 8,
   "metadata": {},
   "outputs": [
    {
     "name": "stdout",
     "output_type": "stream",
     "text": [
      "0       110000\n",
      "1       110101\n",
      "2       110102\n",
      "3       110105\n",
      "4       110106\n",
      "5       110107\n",
      "6       110108\n",
      "7       110109\n",
      "8       110111\n",
      "9       110112\n",
      "10      110113\n",
      "11      110114\n",
      "12      110115\n",
      "13      110116\n",
      "14      110117\n",
      "15      110118\n",
      "16      110119\n",
      "17      120000\n",
      "18      120101\n",
      "19      120102\n",
      "20      120103\n",
      "21      120104\n",
      "22      120105\n",
      "23      120106\n",
      "24      120110\n",
      "25      120111\n",
      "26      120112\n",
      "27      120113\n",
      "28      120114\n",
      "29      120115\n",
      "         ...  \n",
      "3189    654027\n",
      "3190    654028\n",
      "3191    654200\n",
      "3192    654201\n",
      "3193    654202\n",
      "3194    654221\n",
      "3195    654223\n",
      "3196    654224\n",
      "3197    654225\n",
      "3198    654226\n",
      "3199    654300\n",
      "3200    654301\n",
      "3201    654321\n",
      "3202    654322\n",
      "3203    654323\n",
      "3204    654324\n",
      "3205    654325\n",
      "3206    654326\n",
      "3207    659001\n",
      "3208    659002\n",
      "3209    659003\n",
      "3210    659004\n",
      "3211    659005\n",
      "3212    659006\n",
      "3213    659007\n",
      "3214    659008\n",
      "3215    659009\n",
      "3216    710000\n",
      "3217    810000\n",
      "3218    820000\n",
      "Name: 0, Length: 3219, dtype: int64\n"
     ]
    }
   ],
   "source": [
    "print df_data[0]"
   ]
  },
  {
   "cell_type": "code",
   "execution_count": 11,
   "metadata": {},
   "outputs": [
    {
     "name": "stdout",
     "output_type": "stream",
     "text": [
      "    朝阳区\n"
     ]
    }
   ],
   "source": [
    "print df_data[1][3]"
   ]
  },
  {
   "cell_type": "code",
   "execution_count": 12,
   "metadata": {},
   "outputs": [],
   "source": [
    "tmp = []\n",
    "for i in df_data[1]:\n",
    "    tmp.append(i.strip())"
   ]
  },
  {
   "cell_type": "code",
   "execution_count": 13,
   "metadata": {},
   "outputs": [],
   "source": [
    "df_tmp = pd.DataFrame()"
   ]
  },
  {
   "cell_type": "code",
   "execution_count": 14,
   "metadata": {},
   "outputs": [],
   "source": [
    "df_tmp[0] = df_data[0]"
   ]
  },
  {
   "cell_type": "code",
   "execution_count": 15,
   "metadata": {},
   "outputs": [],
   "source": [
    "df_tmp[1] = tmp\n"
   ]
  },
  {
   "cell_type": "code",
   "execution_count": 16,
   "metadata": {},
   "outputs": [
    {
     "name": "stdout",
     "output_type": "stream",
     "text": [
      "           0           1\n",
      "0     110000         北京市\n",
      "1     110101         东城区\n",
      "2     110102         西城区\n",
      "3     110105         朝阳区\n",
      "4     110106         丰台区\n",
      "5     110107        石景山区\n",
      "6     110108         海淀区\n",
      "7     110109        门头沟区\n",
      "8     110111         房山区\n",
      "9     110112         通州区\n",
      "10    110113         顺义区\n",
      "11    110114         昌平区\n",
      "12    110115         大兴区\n",
      "13    110116         怀柔区\n",
      "14    110117         平谷区\n",
      "15    110118         密云区\n",
      "16    110119         延庆区\n",
      "17    120000         天津市\n",
      "18    120101         和平区\n",
      "19    120102         河东区\n",
      "20    120103         河西区\n",
      "21    120104         南开区\n",
      "22    120105         河北区\n",
      "23    120106         红桥区\n",
      "24    120110         东丽区\n",
      "25    120111         西青区\n",
      "26    120112         津南区\n",
      "27    120113         北辰区\n",
      "28    120114         武清区\n",
      "29    120115         宝坻区\n",
      "...      ...         ...\n",
      "3189  654027        特克斯县\n",
      "3190  654028        尼勒克县\n",
      "3191  654200        塔城地区\n",
      "3192  654201         塔城市\n",
      "3193  654202         乌苏市\n",
      "3194  654221         额敏县\n",
      "3195  654223         沙湾县\n",
      "3196  654224         托里县\n",
      "3197  654225         裕民县\n",
      "3198  654226  和布克赛尔蒙古自治县\n",
      "3199  654300       阿勒泰地区\n",
      "3200  654301        阿勒泰市\n",
      "3201  654321        布尔津县\n",
      "3202  654322         富蕴县\n",
      "3203  654323         福海县\n",
      "3204  654324        哈巴河县\n",
      "3205  654325         青河县\n",
      "3206  654326        吉木乃县\n",
      "3207  659001        石河子市\n",
      "3208  659002        阿拉尔市\n",
      "3209  659003       图木舒克市\n",
      "3210  659004        五家渠市\n",
      "3211  659005         北屯市\n",
      "3212  659006        铁门关市\n",
      "3213  659007         双河市\n",
      "3214  659008       可克达拉市\n",
      "3215  659009         昆玉市\n",
      "3216  710000         台湾省\n",
      "3217  810000     香港特别行政区\n",
      "3218  820000     澳门特别行政区\n",
      "\n",
      "[3219 rows x 2 columns]\n"
     ]
    }
   ],
   "source": [
    "print df_tmp"
   ]
  },
  {
   "cell_type": "code",
   "execution_count": 17,
   "metadata": {},
   "outputs": [],
   "source": [
    "df_tmp.to_csv(\"2016.csv\", index=False)"
   ]
  },
  {
   "cell_type": "code",
   "execution_count": null,
   "metadata": {},
   "outputs": [],
   "source": []
  }
 ],
 "metadata": {
  "kernelspec": {
   "display_name": "Python 2",
   "language": "python",
   "name": "python2"
  },
  "language_info": {
   "codemirror_mode": {
    "name": "ipython",
    "version": 2
   },
   "file_extension": ".py",
   "mimetype": "text/x-python",
   "name": "python",
   "nbconvert_exporter": "python",
   "pygments_lexer": "ipython2",
   "version": "2.7.14"
  }
 },
 "nbformat": 4,
 "nbformat_minor": 2
}
